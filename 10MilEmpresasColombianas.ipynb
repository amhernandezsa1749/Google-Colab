{
  "nbformat": 4,
  "nbformat_minor": 0,
  "metadata": {
    "colab": {
      "provenance": [],
      "authorship_tag": "ABX9TyNBg7dvgx46KMCuisDF880O",
      "include_colab_link": true
    },
    "kernelspec": {
      "name": "python3",
      "display_name": "Python 3"
    },
    "language_info": {
      "name": "python"
    }
  },
  "cells": [
    {
      "cell_type": "markdown",
      "metadata": {
        "id": "view-in-github",
        "colab_type": "text"
      },
      "source": [
        "<a href=\"https://colab.research.google.com/github/amhernandezsa1749/Google-Colab/blob/main/10MilEmpresasColombianas.ipynb\" target=\"_parent\"><img src=\"https://colab.research.google.com/assets/colab-badge.svg\" alt=\"Open In Colab\"/></a>"
      ]
    },
    {
      "cell_type": "markdown",
      "source": [],
      "metadata": {
        "id": "3KDZ3vC3e1PX"
      }
    },
    {
      "cell_type": "markdown",
      "source": [
        "#BDD DIEZ MIL EMPRESAS MAS GRANDES DE COLOMBIA\n",
        "##Angelica Hernández"
      ],
      "metadata": {
        "id": "ETrLa-TQfVHR"
      }
    },
    {
      "cell_type": "markdown",
      "source": [
        " 1. Cargo las librerias"
      ],
      "metadata": {
        "id": "nWIemjPYhLza"
      }
    },
    {
      "cell_type": "code",
      "source": [
        "%config IPCompleter.greedy=True\n",
        "import pandas as pd\n",
        "import numpy as np\n",
        "import xlrd\n",
        "import seaborn as sb\n",
        "import matplotlib.pyplot as plt\n",
        "from matplotlib.ticker import PercentFormatter"
      ],
      "metadata": {
        "id": "BIQQPJ9OhYRO"
      },
      "execution_count": 2,
      "outputs": []
    },
    {
      "cell_type": "markdown",
      "source": [
        "2. Cargo la base de datos desde drive"
      ],
      "metadata": {
        "id": "F3zi2Oi6h-yH"
      }
    },
    {
      "cell_type": "code",
      "source": [
        "from google.colab import drive\n",
        "drive.mount('/content/drive')"
      ],
      "metadata": {
        "colab": {
          "base_uri": "https://localhost:8080/"
        },
        "id": "_AiKy4QgkNXT",
        "outputId": "108fc433-b06f-4c2c-bd8c-aa02fba77dd4"
      },
      "execution_count": 3,
      "outputs": [
        {
          "output_type": "stream",
          "name": "stdout",
          "text": [
            "Mounted at /content/drive\n"
          ]
        }
      ]
    },
    {
      "cell_type": "code",
      "source": [
        "import pandas as pd\n",
        "df = pd.read_excel(\"/content/drive/MyDrive/BDD_10MIL_EMPRESAS.xlsx\")\n",
        "df"
      ],
      "metadata": {
        "colab": {
          "base_uri": "https://localhost:8080/",
          "height": 652
        },
        "id": "mFO2LXMxmbJ8",
        "outputId": "72d684e6-3329-4a07-a6f2-54935d2700da"
      },
      "execution_count": 4,
      "outputs": [
        {
          "output_type": "execute_result",
          "data": {
            "text/plain": [
              "      IDENTITY        NIT                              RAZON_SOCIAL  \\\n",
              "0            1  899999068                             ECOPETROL S.A   \n",
              "1            2  900112515              REFINERIA DE CARTAGENA S.A.S   \n",
              "2            3  830095213                  ORGANIZACIÓN TERPEL S.A.   \n",
              "3            4  860069804            CARBONES DEL CERREJON LIMITED    \n",
              "4            5  800021308                              DRUMMOND LTD   \n",
              "...        ...        ...                                       ...   \n",
              "9995      9996  900150221                            GLOBAL PACIFIC   \n",
              "9996      9997  900556124                 OXOHOTEL WAYA WUAJIRA SAS   \n",
              "9997      9998  800078122  DIAGNOSTICENTRO DIESEL LA MONTAÑA S.A.SA   \n",
              "9998      9999  860036365                             CONCRELAB SAS   \n",
              "9999     10000  900107634                                UNIFY LTDA   \n",
              "\n",
              "           SUPERVISOR                 REGION DEPARTAMENTO_ DOMICILIO  \\\n",
              "0     SUPERFINANCIERA  Bogotá - Cundinamarca             BOGOTA D.C.   \n",
              "1     SUPERSOCIEDADES        Costa Atlántica                 BOLIVAR   \n",
              "2     SUPERFINANCIERA  Bogotá - Cundinamarca             BOGOTA D.C.   \n",
              "3     SUPERSOCIEDADES  Bogotá - Cundinamarca             BOGOTA D.C.   \n",
              "4     SUPERSOCIEDADES  Bogotá - Cundinamarca             BOGOTA D.C.   \n",
              "...               ...                    ...                     ...   \n",
              "9995  SUPERSOCIEDADES              Antioquia               ANTIOQUIA   \n",
              "9996  SUPERSOCIEDADES        Costa Atlántica              LA GUAJIRA   \n",
              "9997  SUPERSOCIEDADES              Antioquia               ANTIOQUIA   \n",
              "9998  SUPERSOCIEDADES  Bogotá - Cundinamarca             BOGOTA D.C.   \n",
              "9999  SUPERSOCIEDADES  Bogotá - Cundinamarca             BOGOTA D.C.   \n",
              "\n",
              "             CIUDAD_DOMICILIO  CIIU  MACROSECTOR  INGRESOS_OPERACIONALES_2022  \\\n",
              "0     BOGOTA D.C.-BOGOTA D.C.   610       MINERO                   144.820648   \n",
              "1           CARTAGENA-BOLIVAR  1921  MANUFACTURA                    27.856976   \n",
              "2     BOGOTA D.C.-BOGOTA D.C.  4661     COMERCIO                    23.603193   \n",
              "3     BOGOTA D.C.-BOGOTA D.C.   510       MINERO                    16.387613   \n",
              "4     BOGOTA D.C.-BOGOTA D.C.   510       MINERO                    15.270058   \n",
              "...                       ...   ...          ...                          ...   \n",
              "9995         ITAGUI-ANTIOQUIA  4690     COMERCIO                     0.015676   \n",
              "9996       ALBANIA-LA GUAJIRA  5511    SERVICIOS                     0.015673   \n",
              "9997       MEDELLIN-ANTIOQUIA  4520     COMERCIO                     0.015669   \n",
              "9998  BOGOTA D.C.-BOGOTA D.C.  7120    SERVICIOS                     0.015668   \n",
              "9999  BOGOTA D.C.-BOGOTA D.C.  6190    SERVICIOS                     0.015664   \n",
              "\n",
              "      GANANCIA_PERDIDA_2022  TOTAL_ACTIVOS_2022  TOTAL_PASIVOS _2022  \\\n",
              "0                 33.406292          216.847702           125.812988   \n",
              "1                  2.188259           42.844952            16.480904   \n",
              "2                  0.333412            7.481575             4.473300   \n",
              "3                  6.049035           10.449666             8.998960   \n",
              "4                  2.158037           14.272509             6.338078   \n",
              "...                     ...                 ...                  ...   \n",
              "9995               0.000736            0.008645             0.006494   \n",
              "9996               0.000007            0.004761             0.004711   \n",
              "9997               0.001027            0.017195             0.008469   \n",
              "9998               0.002201            0.012489             0.003941   \n",
              "9999              -0.000382            0.032665             0.023945   \n",
              "\n",
              "      TOTAL_PATRIMONIO_2022  INGRESOS_OPERACIONALES_2021  \\\n",
              "0                 91.034706                    84.948990   \n",
              "1                 26.364046                    15.503226   \n",
              "2                  3.008276                    17.012411   \n",
              "3                  1.450706                     6.559866   \n",
              "4                  7.934430                     8.494749   \n",
              "...                     ...                          ...   \n",
              "9995               0.002151                          NaN   \n",
              "9996               0.000050                     0.012308   \n",
              "9997               0.008726                          NaN   \n",
              "9998               0.008547                          NaN   \n",
              "9999               0.008720                     0.014159   \n",
              "\n",
              "      GANANCIA_PERDIDA_2021  TOTAL_ACTIVOS_2021  TOTAL_PASIVOS _2021  \\\n",
              "0                 16.694683          171.603165            99.870148   \n",
              "1                 -0.371780           35.440788            15.008915   \n",
              "2                  0.375722            6.336788             3.761811   \n",
              "3                  1.568582            6.813263             4.104326   \n",
              "4                  0.830781           10.651090             4.209797   \n",
              "...                     ...                 ...                  ...   \n",
              "9995                    NaN                 NaN                  NaN   \n",
              "9996               0.000005            0.003275             0.003232   \n",
              "9997                    NaN                 NaN                  NaN   \n",
              "9998                    NaN                 NaN                  NaN   \n",
              "9999              -0.000880            0.025947             0.016845   \n",
              "\n",
              "      TOTAL_PATRIMONIO_2021  \n",
              "0                 71.733025  \n",
              "1                 20.431871  \n",
              "2                  2.574978  \n",
              "3                  2.708937  \n",
              "4                  6.441292  \n",
              "...                     ...  \n",
              "9995                    NaN  \n",
              "9996               0.000043  \n",
              "9997                    NaN  \n",
              "9998                    NaN  \n",
              "9999               0.009102  \n",
              "\n",
              "[10000 rows x 19 columns]"
            ],
            "text/html": [
              "\n",
              "  <div id=\"df-be6e50c8-4214-48d9-ad5b-9ec288ed8e1f\" class=\"colab-df-container\">\n",
              "    <div>\n",
              "<style scoped>\n",
              "    .dataframe tbody tr th:only-of-type {\n",
              "        vertical-align: middle;\n",
              "    }\n",
              "\n",
              "    .dataframe tbody tr th {\n",
              "        vertical-align: top;\n",
              "    }\n",
              "\n",
              "    .dataframe thead th {\n",
              "        text-align: right;\n",
              "    }\n",
              "</style>\n",
              "<table border=\"1\" class=\"dataframe\">\n",
              "  <thead>\n",
              "    <tr style=\"text-align: right;\">\n",
              "      <th></th>\n",
              "      <th>IDENTITY</th>\n",
              "      <th>NIT</th>\n",
              "      <th>RAZON_SOCIAL</th>\n",
              "      <th>SUPERVISOR</th>\n",
              "      <th>REGION</th>\n",
              "      <th>DEPARTAMENTO_ DOMICILIO</th>\n",
              "      <th>CIUDAD_DOMICILIO</th>\n",
              "      <th>CIIU</th>\n",
              "      <th>MACROSECTOR</th>\n",
              "      <th>INGRESOS_OPERACIONALES_2022</th>\n",
              "      <th>GANANCIA_PERDIDA_2022</th>\n",
              "      <th>TOTAL_ACTIVOS_2022</th>\n",
              "      <th>TOTAL_PASIVOS _2022</th>\n",
              "      <th>TOTAL_PATRIMONIO_2022</th>\n",
              "      <th>INGRESOS_OPERACIONALES_2021</th>\n",
              "      <th>GANANCIA_PERDIDA_2021</th>\n",
              "      <th>TOTAL_ACTIVOS_2021</th>\n",
              "      <th>TOTAL_PASIVOS _2021</th>\n",
              "      <th>TOTAL_PATRIMONIO_2021</th>\n",
              "    </tr>\n",
              "  </thead>\n",
              "  <tbody>\n",
              "    <tr>\n",
              "      <th>0</th>\n",
              "      <td>1</td>\n",
              "      <td>899999068</td>\n",
              "      <td>ECOPETROL S.A</td>\n",
              "      <td>SUPERFINANCIERA</td>\n",
              "      <td>Bogotá - Cundinamarca</td>\n",
              "      <td>BOGOTA D.C.</td>\n",
              "      <td>BOGOTA D.C.-BOGOTA D.C.</td>\n",
              "      <td>610</td>\n",
              "      <td>MINERO</td>\n",
              "      <td>144.820648</td>\n",
              "      <td>33.406292</td>\n",
              "      <td>216.847702</td>\n",
              "      <td>125.812988</td>\n",
              "      <td>91.034706</td>\n",
              "      <td>84.948990</td>\n",
              "      <td>16.694683</td>\n",
              "      <td>171.603165</td>\n",
              "      <td>99.870148</td>\n",
              "      <td>71.733025</td>\n",
              "    </tr>\n",
              "    <tr>\n",
              "      <th>1</th>\n",
              "      <td>2</td>\n",
              "      <td>900112515</td>\n",
              "      <td>REFINERIA DE CARTAGENA S.A.S</td>\n",
              "      <td>SUPERSOCIEDADES</td>\n",
              "      <td>Costa Atlántica</td>\n",
              "      <td>BOLIVAR</td>\n",
              "      <td>CARTAGENA-BOLIVAR</td>\n",
              "      <td>1921</td>\n",
              "      <td>MANUFACTURA</td>\n",
              "      <td>27.856976</td>\n",
              "      <td>2.188259</td>\n",
              "      <td>42.844952</td>\n",
              "      <td>16.480904</td>\n",
              "      <td>26.364046</td>\n",
              "      <td>15.503226</td>\n",
              "      <td>-0.371780</td>\n",
              "      <td>35.440788</td>\n",
              "      <td>15.008915</td>\n",
              "      <td>20.431871</td>\n",
              "    </tr>\n",
              "    <tr>\n",
              "      <th>2</th>\n",
              "      <td>3</td>\n",
              "      <td>830095213</td>\n",
              "      <td>ORGANIZACIÓN TERPEL S.A.</td>\n",
              "      <td>SUPERFINANCIERA</td>\n",
              "      <td>Bogotá - Cundinamarca</td>\n",
              "      <td>BOGOTA D.C.</td>\n",
              "      <td>BOGOTA D.C.-BOGOTA D.C.</td>\n",
              "      <td>4661</td>\n",
              "      <td>COMERCIO</td>\n",
              "      <td>23.603193</td>\n",
              "      <td>0.333412</td>\n",
              "      <td>7.481575</td>\n",
              "      <td>4.473300</td>\n",
              "      <td>3.008276</td>\n",
              "      <td>17.012411</td>\n",
              "      <td>0.375722</td>\n",
              "      <td>6.336788</td>\n",
              "      <td>3.761811</td>\n",
              "      <td>2.574978</td>\n",
              "    </tr>\n",
              "    <tr>\n",
              "      <th>3</th>\n",
              "      <td>4</td>\n",
              "      <td>860069804</td>\n",
              "      <td>CARBONES DEL CERREJON LIMITED</td>\n",
              "      <td>SUPERSOCIEDADES</td>\n",
              "      <td>Bogotá - Cundinamarca</td>\n",
              "      <td>BOGOTA D.C.</td>\n",
              "      <td>BOGOTA D.C.-BOGOTA D.C.</td>\n",
              "      <td>510</td>\n",
              "      <td>MINERO</td>\n",
              "      <td>16.387613</td>\n",
              "      <td>6.049035</td>\n",
              "      <td>10.449666</td>\n",
              "      <td>8.998960</td>\n",
              "      <td>1.450706</td>\n",
              "      <td>6.559866</td>\n",
              "      <td>1.568582</td>\n",
              "      <td>6.813263</td>\n",
              "      <td>4.104326</td>\n",
              "      <td>2.708937</td>\n",
              "    </tr>\n",
              "    <tr>\n",
              "      <th>4</th>\n",
              "      <td>5</td>\n",
              "      <td>800021308</td>\n",
              "      <td>DRUMMOND LTD</td>\n",
              "      <td>SUPERSOCIEDADES</td>\n",
              "      <td>Bogotá - Cundinamarca</td>\n",
              "      <td>BOGOTA D.C.</td>\n",
              "      <td>BOGOTA D.C.-BOGOTA D.C.</td>\n",
              "      <td>510</td>\n",
              "      <td>MINERO</td>\n",
              "      <td>15.270058</td>\n",
              "      <td>2.158037</td>\n",
              "      <td>14.272509</td>\n",
              "      <td>6.338078</td>\n",
              "      <td>7.934430</td>\n",
              "      <td>8.494749</td>\n",
              "      <td>0.830781</td>\n",
              "      <td>10.651090</td>\n",
              "      <td>4.209797</td>\n",
              "      <td>6.441292</td>\n",
              "    </tr>\n",
              "    <tr>\n",
              "      <th>...</th>\n",
              "      <td>...</td>\n",
              "      <td>...</td>\n",
              "      <td>...</td>\n",
              "      <td>...</td>\n",
              "      <td>...</td>\n",
              "      <td>...</td>\n",
              "      <td>...</td>\n",
              "      <td>...</td>\n",
              "      <td>...</td>\n",
              "      <td>...</td>\n",
              "      <td>...</td>\n",
              "      <td>...</td>\n",
              "      <td>...</td>\n",
              "      <td>...</td>\n",
              "      <td>...</td>\n",
              "      <td>...</td>\n",
              "      <td>...</td>\n",
              "      <td>...</td>\n",
              "      <td>...</td>\n",
              "    </tr>\n",
              "    <tr>\n",
              "      <th>9995</th>\n",
              "      <td>9996</td>\n",
              "      <td>900150221</td>\n",
              "      <td>GLOBAL PACIFIC</td>\n",
              "      <td>SUPERSOCIEDADES</td>\n",
              "      <td>Antioquia</td>\n",
              "      <td>ANTIOQUIA</td>\n",
              "      <td>ITAGUI-ANTIOQUIA</td>\n",
              "      <td>4690</td>\n",
              "      <td>COMERCIO</td>\n",
              "      <td>0.015676</td>\n",
              "      <td>0.000736</td>\n",
              "      <td>0.008645</td>\n",
              "      <td>0.006494</td>\n",
              "      <td>0.002151</td>\n",
              "      <td>NaN</td>\n",
              "      <td>NaN</td>\n",
              "      <td>NaN</td>\n",
              "      <td>NaN</td>\n",
              "      <td>NaN</td>\n",
              "    </tr>\n",
              "    <tr>\n",
              "      <th>9996</th>\n",
              "      <td>9997</td>\n",
              "      <td>900556124</td>\n",
              "      <td>OXOHOTEL WAYA WUAJIRA SAS</td>\n",
              "      <td>SUPERSOCIEDADES</td>\n",
              "      <td>Costa Atlántica</td>\n",
              "      <td>LA GUAJIRA</td>\n",
              "      <td>ALBANIA-LA GUAJIRA</td>\n",
              "      <td>5511</td>\n",
              "      <td>SERVICIOS</td>\n",
              "      <td>0.015673</td>\n",
              "      <td>0.000007</td>\n",
              "      <td>0.004761</td>\n",
              "      <td>0.004711</td>\n",
              "      <td>0.000050</td>\n",
              "      <td>0.012308</td>\n",
              "      <td>0.000005</td>\n",
              "      <td>0.003275</td>\n",
              "      <td>0.003232</td>\n",
              "      <td>0.000043</td>\n",
              "    </tr>\n",
              "    <tr>\n",
              "      <th>9997</th>\n",
              "      <td>9998</td>\n",
              "      <td>800078122</td>\n",
              "      <td>DIAGNOSTICENTRO DIESEL LA MONTAÑA S.A.SA</td>\n",
              "      <td>SUPERSOCIEDADES</td>\n",
              "      <td>Antioquia</td>\n",
              "      <td>ANTIOQUIA</td>\n",
              "      <td>MEDELLIN-ANTIOQUIA</td>\n",
              "      <td>4520</td>\n",
              "      <td>COMERCIO</td>\n",
              "      <td>0.015669</td>\n",
              "      <td>0.001027</td>\n",
              "      <td>0.017195</td>\n",
              "      <td>0.008469</td>\n",
              "      <td>0.008726</td>\n",
              "      <td>NaN</td>\n",
              "      <td>NaN</td>\n",
              "      <td>NaN</td>\n",
              "      <td>NaN</td>\n",
              "      <td>NaN</td>\n",
              "    </tr>\n",
              "    <tr>\n",
              "      <th>9998</th>\n",
              "      <td>9999</td>\n",
              "      <td>860036365</td>\n",
              "      <td>CONCRELAB SAS</td>\n",
              "      <td>SUPERSOCIEDADES</td>\n",
              "      <td>Bogotá - Cundinamarca</td>\n",
              "      <td>BOGOTA D.C.</td>\n",
              "      <td>BOGOTA D.C.-BOGOTA D.C.</td>\n",
              "      <td>7120</td>\n",
              "      <td>SERVICIOS</td>\n",
              "      <td>0.015668</td>\n",
              "      <td>0.002201</td>\n",
              "      <td>0.012489</td>\n",
              "      <td>0.003941</td>\n",
              "      <td>0.008547</td>\n",
              "      <td>NaN</td>\n",
              "      <td>NaN</td>\n",
              "      <td>NaN</td>\n",
              "      <td>NaN</td>\n",
              "      <td>NaN</td>\n",
              "    </tr>\n",
              "    <tr>\n",
              "      <th>9999</th>\n",
              "      <td>10000</td>\n",
              "      <td>900107634</td>\n",
              "      <td>UNIFY LTDA</td>\n",
              "      <td>SUPERSOCIEDADES</td>\n",
              "      <td>Bogotá - Cundinamarca</td>\n",
              "      <td>BOGOTA D.C.</td>\n",
              "      <td>BOGOTA D.C.-BOGOTA D.C.</td>\n",
              "      <td>6190</td>\n",
              "      <td>SERVICIOS</td>\n",
              "      <td>0.015664</td>\n",
              "      <td>-0.000382</td>\n",
              "      <td>0.032665</td>\n",
              "      <td>0.023945</td>\n",
              "      <td>0.008720</td>\n",
              "      <td>0.014159</td>\n",
              "      <td>-0.000880</td>\n",
              "      <td>0.025947</td>\n",
              "      <td>0.016845</td>\n",
              "      <td>0.009102</td>\n",
              "    </tr>\n",
              "  </tbody>\n",
              "</table>\n",
              "<p>10000 rows × 19 columns</p>\n",
              "</div>\n",
              "    <div class=\"colab-df-buttons\">\n",
              "\n",
              "  <div class=\"colab-df-container\">\n",
              "    <button class=\"colab-df-convert\" onclick=\"convertToInteractive('df-be6e50c8-4214-48d9-ad5b-9ec288ed8e1f')\"\n",
              "            title=\"Convert this dataframe to an interactive table.\"\n",
              "            style=\"display:none;\">\n",
              "\n",
              "  <svg xmlns=\"http://www.w3.org/2000/svg\" height=\"24px\" viewBox=\"0 -960 960 960\">\n",
              "    <path d=\"M120-120v-720h720v720H120Zm60-500h600v-160H180v160Zm220 220h160v-160H400v160Zm0 220h160v-160H400v160ZM180-400h160v-160H180v160Zm440 0h160v-160H620v160ZM180-180h160v-160H180v160Zm440 0h160v-160H620v160Z\"/>\n",
              "  </svg>\n",
              "    </button>\n",
              "\n",
              "  <style>\n",
              "    .colab-df-container {\n",
              "      display:flex;\n",
              "      gap: 12px;\n",
              "    }\n",
              "\n",
              "    .colab-df-convert {\n",
              "      background-color: #E8F0FE;\n",
              "      border: none;\n",
              "      border-radius: 50%;\n",
              "      cursor: pointer;\n",
              "      display: none;\n",
              "      fill: #1967D2;\n",
              "      height: 32px;\n",
              "      padding: 0 0 0 0;\n",
              "      width: 32px;\n",
              "    }\n",
              "\n",
              "    .colab-df-convert:hover {\n",
              "      background-color: #E2EBFA;\n",
              "      box-shadow: 0px 1px 2px rgba(60, 64, 67, 0.3), 0px 1px 3px 1px rgba(60, 64, 67, 0.15);\n",
              "      fill: #174EA6;\n",
              "    }\n",
              "\n",
              "    .colab-df-buttons div {\n",
              "      margin-bottom: 4px;\n",
              "    }\n",
              "\n",
              "    [theme=dark] .colab-df-convert {\n",
              "      background-color: #3B4455;\n",
              "      fill: #D2E3FC;\n",
              "    }\n",
              "\n",
              "    [theme=dark] .colab-df-convert:hover {\n",
              "      background-color: #434B5C;\n",
              "      box-shadow: 0px 1px 3px 1px rgba(0, 0, 0, 0.15);\n",
              "      filter: drop-shadow(0px 1px 2px rgba(0, 0, 0, 0.3));\n",
              "      fill: #FFFFFF;\n",
              "    }\n",
              "  </style>\n",
              "\n",
              "    <script>\n",
              "      const buttonEl =\n",
              "        document.querySelector('#df-be6e50c8-4214-48d9-ad5b-9ec288ed8e1f button.colab-df-convert');\n",
              "      buttonEl.style.display =\n",
              "        google.colab.kernel.accessAllowed ? 'block' : 'none';\n",
              "\n",
              "      async function convertToInteractive(key) {\n",
              "        const element = document.querySelector('#df-be6e50c8-4214-48d9-ad5b-9ec288ed8e1f');\n",
              "        const dataTable =\n",
              "          await google.colab.kernel.invokeFunction('convertToInteractive',\n",
              "                                                    [key], {});\n",
              "        if (!dataTable) return;\n",
              "\n",
              "        const docLinkHtml = 'Like what you see? Visit the ' +\n",
              "          '<a target=\"_blank\" href=https://colab.research.google.com/notebooks/data_table.ipynb>data table notebook</a>'\n",
              "          + ' to learn more about interactive tables.';\n",
              "        element.innerHTML = '';\n",
              "        dataTable['output_type'] = 'display_data';\n",
              "        await google.colab.output.renderOutput(dataTable, element);\n",
              "        const docLink = document.createElement('div');\n",
              "        docLink.innerHTML = docLinkHtml;\n",
              "        element.appendChild(docLink);\n",
              "      }\n",
              "    </script>\n",
              "  </div>\n",
              "\n",
              "\n",
              "<div id=\"df-8d28d462-a3e1-41bf-ab61-86b91b016fb0\">\n",
              "  <button class=\"colab-df-quickchart\" onclick=\"quickchart('df-8d28d462-a3e1-41bf-ab61-86b91b016fb0')\"\n",
              "            title=\"Suggest charts\"\n",
              "            style=\"display:none;\">\n",
              "\n",
              "<svg xmlns=\"http://www.w3.org/2000/svg\" height=\"24px\"viewBox=\"0 0 24 24\"\n",
              "     width=\"24px\">\n",
              "    <g>\n",
              "        <path d=\"M19 3H5c-1.1 0-2 .9-2 2v14c0 1.1.9 2 2 2h14c1.1 0 2-.9 2-2V5c0-1.1-.9-2-2-2zM9 17H7v-7h2v7zm4 0h-2V7h2v10zm4 0h-2v-4h2v4z\"/>\n",
              "    </g>\n",
              "</svg>\n",
              "  </button>\n",
              "\n",
              "<style>\n",
              "  .colab-df-quickchart {\n",
              "      --bg-color: #E8F0FE;\n",
              "      --fill-color: #1967D2;\n",
              "      --hover-bg-color: #E2EBFA;\n",
              "      --hover-fill-color: #174EA6;\n",
              "      --disabled-fill-color: #AAA;\n",
              "      --disabled-bg-color: #DDD;\n",
              "  }\n",
              "\n",
              "  [theme=dark] .colab-df-quickchart {\n",
              "      --bg-color: #3B4455;\n",
              "      --fill-color: #D2E3FC;\n",
              "      --hover-bg-color: #434B5C;\n",
              "      --hover-fill-color: #FFFFFF;\n",
              "      --disabled-bg-color: #3B4455;\n",
              "      --disabled-fill-color: #666;\n",
              "  }\n",
              "\n",
              "  .colab-df-quickchart {\n",
              "    background-color: var(--bg-color);\n",
              "    border: none;\n",
              "    border-radius: 50%;\n",
              "    cursor: pointer;\n",
              "    display: none;\n",
              "    fill: var(--fill-color);\n",
              "    height: 32px;\n",
              "    padding: 0;\n",
              "    width: 32px;\n",
              "  }\n",
              "\n",
              "  .colab-df-quickchart:hover {\n",
              "    background-color: var(--hover-bg-color);\n",
              "    box-shadow: 0 1px 2px rgba(60, 64, 67, 0.3), 0 1px 3px 1px rgba(60, 64, 67, 0.15);\n",
              "    fill: var(--button-hover-fill-color);\n",
              "  }\n",
              "\n",
              "  .colab-df-quickchart-complete:disabled,\n",
              "  .colab-df-quickchart-complete:disabled:hover {\n",
              "    background-color: var(--disabled-bg-color);\n",
              "    fill: var(--disabled-fill-color);\n",
              "    box-shadow: none;\n",
              "  }\n",
              "\n",
              "  .colab-df-spinner {\n",
              "    border: 2px solid var(--fill-color);\n",
              "    border-color: transparent;\n",
              "    border-bottom-color: var(--fill-color);\n",
              "    animation:\n",
              "      spin 1s steps(1) infinite;\n",
              "  }\n",
              "\n",
              "  @keyframes spin {\n",
              "    0% {\n",
              "      border-color: transparent;\n",
              "      border-bottom-color: var(--fill-color);\n",
              "      border-left-color: var(--fill-color);\n",
              "    }\n",
              "    20% {\n",
              "      border-color: transparent;\n",
              "      border-left-color: var(--fill-color);\n",
              "      border-top-color: var(--fill-color);\n",
              "    }\n",
              "    30% {\n",
              "      border-color: transparent;\n",
              "      border-left-color: var(--fill-color);\n",
              "      border-top-color: var(--fill-color);\n",
              "      border-right-color: var(--fill-color);\n",
              "    }\n",
              "    40% {\n",
              "      border-color: transparent;\n",
              "      border-right-color: var(--fill-color);\n",
              "      border-top-color: var(--fill-color);\n",
              "    }\n",
              "    60% {\n",
              "      border-color: transparent;\n",
              "      border-right-color: var(--fill-color);\n",
              "    }\n",
              "    80% {\n",
              "      border-color: transparent;\n",
              "      border-right-color: var(--fill-color);\n",
              "      border-bottom-color: var(--fill-color);\n",
              "    }\n",
              "    90% {\n",
              "      border-color: transparent;\n",
              "      border-bottom-color: var(--fill-color);\n",
              "    }\n",
              "  }\n",
              "</style>\n",
              "\n",
              "  <script>\n",
              "    async function quickchart(key) {\n",
              "      const quickchartButtonEl =\n",
              "        document.querySelector('#' + key + ' button');\n",
              "      quickchartButtonEl.disabled = true;  // To prevent multiple clicks.\n",
              "      quickchartButtonEl.classList.add('colab-df-spinner');\n",
              "      try {\n",
              "        const charts = await google.colab.kernel.invokeFunction(\n",
              "            'suggestCharts', [key], {});\n",
              "      } catch (error) {\n",
              "        console.error('Error during call to suggestCharts:', error);\n",
              "      }\n",
              "      quickchartButtonEl.classList.remove('colab-df-spinner');\n",
              "      quickchartButtonEl.classList.add('colab-df-quickchart-complete');\n",
              "    }\n",
              "    (() => {\n",
              "      let quickchartButtonEl =\n",
              "        document.querySelector('#df-8d28d462-a3e1-41bf-ab61-86b91b016fb0 button');\n",
              "      quickchartButtonEl.style.display =\n",
              "        google.colab.kernel.accessAllowed ? 'block' : 'none';\n",
              "    })();\n",
              "  </script>\n",
              "</div>\n",
              "    </div>\n",
              "  </div>\n"
            ]
          },
          "metadata": {},
          "execution_count": 4
        }
      ]
    },
    {
      "cell_type": "markdown",
      "source": [
        "3.Tipos de datos"
      ],
      "metadata": {
        "id": "WD4BgzFRm4a8"
      }
    },
    {
      "cell_type": "code",
      "source": [
        "df.dtypes\n",
        "print('\\nLos tipos de datos por columnas son:\\n',df.dtypes)"
      ],
      "metadata": {
        "colab": {
          "base_uri": "https://localhost:8080/"
        },
        "id": "GwTQj7Szm8kq",
        "outputId": "c17c04a1-84e8-4e30-b486-38ee4f45f9c6"
      },
      "execution_count": 5,
      "outputs": [
        {
          "output_type": "stream",
          "name": "stdout",
          "text": [
            "\n",
            "Los tipos de datos por columnas son:\n",
            " IDENTITY                         int64\n",
            "NIT                              int64\n",
            "RAZON_SOCIAL                    object\n",
            "SUPERVISOR                      object\n",
            "REGION                          object\n",
            "DEPARTAMENTO_ DOMICILIO         object\n",
            "CIUDAD_DOMICILIO                object\n",
            "CIIU                             int64\n",
            "MACROSECTOR                     object\n",
            "INGRESOS_OPERACIONALES_2022    float64\n",
            "GANANCIA_PERDIDA_2022          float64\n",
            "TOTAL_ACTIVOS_2022             float64\n",
            "TOTAL_PASIVOS _2022            float64\n",
            "TOTAL_PATRIMONIO_2022          float64\n",
            "INGRESOS_OPERACIONALES_2021    float64\n",
            "GANANCIA_PERDIDA_2021          float64\n",
            "TOTAL_ACTIVOS_2021             float64\n",
            "TOTAL_PASIVOS _2021            float64\n",
            "TOTAL_PATRIMONIO_2021          float64\n",
            "dtype: object\n"
          ]
        }
      ]
    },
    {
      "cell_type": "markdown",
      "source": [
        "4.Verifico existencia de valores nulos en la BDD, agrego el metodo suma para tener el calculo de los null por columna"
      ],
      "metadata": {
        "id": "uZjAoN6irH1S"
      }
    },
    {
      "cell_type": "code",
      "source": [
        "df.isnull().sum()"
      ],
      "metadata": {
        "colab": {
          "base_uri": "https://localhost:8080/"
        },
        "id": "eB_aJftkrOWL",
        "outputId": "71f10bae-dd7c-4927-c7ca-fea8c5290c4b"
      },
      "execution_count": 6,
      "outputs": [
        {
          "output_type": "execute_result",
          "data": {
            "text/plain": [
              "IDENTITY                          0\n",
              "NIT                               0\n",
              "RAZON_SOCIAL                      1\n",
              "SUPERVISOR                        0\n",
              "REGION                            0\n",
              "DEPARTAMENTO_ DOMICILIO           0\n",
              "CIUDAD_DOMICILIO                  0\n",
              "CIIU                              0\n",
              "MACROSECTOR                       0\n",
              "INGRESOS_OPERACIONALES_2022       0\n",
              "GANANCIA_PERDIDA_2022             0\n",
              "TOTAL_ACTIVOS_2022                0\n",
              "TOTAL_PASIVOS _2022               0\n",
              "TOTAL_PATRIMONIO_2022             0\n",
              "INGRESOS_OPERACIONALES_2021    1441\n",
              "GANANCIA_PERDIDA_2021          1441\n",
              "TOTAL_ACTIVOS_2021             1441\n",
              "TOTAL_PASIVOS _2021            1441\n",
              "TOTAL_PATRIMONIO_2021          1441\n",
              "dtype: int64"
            ]
          },
          "metadata": {},
          "execution_count": 6
        }
      ]
    },
    {
      "cell_type": "markdown",
      "source": [
        "5. Elimino valores nulos"
      ],
      "metadata": {
        "id": "-NCm2ACQskwO"
      }
    },
    {
      "cell_type": "code",
      "source": [
        "df.dropna(inplace = True)"
      ],
      "metadata": {
        "id": "pJTV1IsotaCC"
      },
      "execution_count": 7,
      "outputs": []
    },
    {
      "cell_type": "code",
      "source": [
        "df.isnull().sum()"
      ],
      "metadata": {
        "colab": {
          "base_uri": "https://localhost:8080/"
        },
        "id": "cbd445_ltiW-",
        "outputId": "c563a03b-c532-4572-ec0e-a187d699a830"
      },
      "execution_count": 8,
      "outputs": [
        {
          "output_type": "execute_result",
          "data": {
            "text/plain": [
              "IDENTITY                       0\n",
              "NIT                            0\n",
              "RAZON_SOCIAL                   0\n",
              "SUPERVISOR                     0\n",
              "REGION                         0\n",
              "DEPARTAMENTO_ DOMICILIO        0\n",
              "CIUDAD_DOMICILIO               0\n",
              "CIIU                           0\n",
              "MACROSECTOR                    0\n",
              "INGRESOS_OPERACIONALES_2022    0\n",
              "GANANCIA_PERDIDA_2022          0\n",
              "TOTAL_ACTIVOS_2022             0\n",
              "TOTAL_PASIVOS _2022            0\n",
              "TOTAL_PATRIMONIO_2022          0\n",
              "INGRESOS_OPERACIONALES_2021    0\n",
              "GANANCIA_PERDIDA_2021          0\n",
              "TOTAL_ACTIVOS_2021             0\n",
              "TOTAL_PASIVOS _2021            0\n",
              "TOTAL_PATRIMONIO_2021          0\n",
              "dtype: int64"
            ]
          },
          "metadata": {},
          "execution_count": 8
        }
      ]
    },
    {
      "cell_type": "markdown",
      "source": [
        "6. Visualizo filas en la BDD"
      ],
      "metadata": {
        "id": "60MPJkMft45-"
      }
    },
    {
      "cell_type": "code",
      "source": [
        "df.head(3)"
      ],
      "metadata": {
        "colab": {
          "base_uri": "https://localhost:8080/",
          "height": 250
        },
        "id": "m41JFXyYuDyy",
        "outputId": "231b8b37-974e-4d2d-b45e-fdf0b848cbe8"
      },
      "execution_count": 9,
      "outputs": [
        {
          "output_type": "execute_result",
          "data": {
            "text/plain": [
              "   IDENTITY        NIT                  RAZON_SOCIAL       SUPERVISOR  \\\n",
              "0         1  899999068                 ECOPETROL S.A  SUPERFINANCIERA   \n",
              "1         2  900112515  REFINERIA DE CARTAGENA S.A.S  SUPERSOCIEDADES   \n",
              "2         3  830095213      ORGANIZACIÓN TERPEL S.A.  SUPERFINANCIERA   \n",
              "\n",
              "                  REGION DEPARTAMENTO_ DOMICILIO         CIUDAD_DOMICILIO  \\\n",
              "0  Bogotá - Cundinamarca             BOGOTA D.C.  BOGOTA D.C.-BOGOTA D.C.   \n",
              "1        Costa Atlántica                 BOLIVAR        CARTAGENA-BOLIVAR   \n",
              "2  Bogotá - Cundinamarca             BOGOTA D.C.  BOGOTA D.C.-BOGOTA D.C.   \n",
              "\n",
              "   CIIU  MACROSECTOR  INGRESOS_OPERACIONALES_2022  GANANCIA_PERDIDA_2022  \\\n",
              "0   610       MINERO                   144.820648              33.406292   \n",
              "1  1921  MANUFACTURA                    27.856976               2.188259   \n",
              "2  4661     COMERCIO                    23.603193               0.333412   \n",
              "\n",
              "   TOTAL_ACTIVOS_2022  TOTAL_PASIVOS _2022  TOTAL_PATRIMONIO_2022  \\\n",
              "0          216.847702           125.812988              91.034706   \n",
              "1           42.844952            16.480904              26.364046   \n",
              "2            7.481575             4.473300               3.008276   \n",
              "\n",
              "   INGRESOS_OPERACIONALES_2021  GANANCIA_PERDIDA_2021  TOTAL_ACTIVOS_2021  \\\n",
              "0                    84.948990              16.694683          171.603165   \n",
              "1                    15.503226              -0.371780           35.440788   \n",
              "2                    17.012411               0.375722            6.336788   \n",
              "\n",
              "   TOTAL_PASIVOS _2021  TOTAL_PATRIMONIO_2021  \n",
              "0            99.870148              71.733025  \n",
              "1            15.008915              20.431871  \n",
              "2             3.761811               2.574978  "
            ],
            "text/html": [
              "\n",
              "  <div id=\"df-f86ef9d1-78f4-45a8-bfcf-e7e5d1ad4b47\" class=\"colab-df-container\">\n",
              "    <div>\n",
              "<style scoped>\n",
              "    .dataframe tbody tr th:only-of-type {\n",
              "        vertical-align: middle;\n",
              "    }\n",
              "\n",
              "    .dataframe tbody tr th {\n",
              "        vertical-align: top;\n",
              "    }\n",
              "\n",
              "    .dataframe thead th {\n",
              "        text-align: right;\n",
              "    }\n",
              "</style>\n",
              "<table border=\"1\" class=\"dataframe\">\n",
              "  <thead>\n",
              "    <tr style=\"text-align: right;\">\n",
              "      <th></th>\n",
              "      <th>IDENTITY</th>\n",
              "      <th>NIT</th>\n",
              "      <th>RAZON_SOCIAL</th>\n",
              "      <th>SUPERVISOR</th>\n",
              "      <th>REGION</th>\n",
              "      <th>DEPARTAMENTO_ DOMICILIO</th>\n",
              "      <th>CIUDAD_DOMICILIO</th>\n",
              "      <th>CIIU</th>\n",
              "      <th>MACROSECTOR</th>\n",
              "      <th>INGRESOS_OPERACIONALES_2022</th>\n",
              "      <th>GANANCIA_PERDIDA_2022</th>\n",
              "      <th>TOTAL_ACTIVOS_2022</th>\n",
              "      <th>TOTAL_PASIVOS _2022</th>\n",
              "      <th>TOTAL_PATRIMONIO_2022</th>\n",
              "      <th>INGRESOS_OPERACIONALES_2021</th>\n",
              "      <th>GANANCIA_PERDIDA_2021</th>\n",
              "      <th>TOTAL_ACTIVOS_2021</th>\n",
              "      <th>TOTAL_PASIVOS _2021</th>\n",
              "      <th>TOTAL_PATRIMONIO_2021</th>\n",
              "    </tr>\n",
              "  </thead>\n",
              "  <tbody>\n",
              "    <tr>\n",
              "      <th>0</th>\n",
              "      <td>1</td>\n",
              "      <td>899999068</td>\n",
              "      <td>ECOPETROL S.A</td>\n",
              "      <td>SUPERFINANCIERA</td>\n",
              "      <td>Bogotá - Cundinamarca</td>\n",
              "      <td>BOGOTA D.C.</td>\n",
              "      <td>BOGOTA D.C.-BOGOTA D.C.</td>\n",
              "      <td>610</td>\n",
              "      <td>MINERO</td>\n",
              "      <td>144.820648</td>\n",
              "      <td>33.406292</td>\n",
              "      <td>216.847702</td>\n",
              "      <td>125.812988</td>\n",
              "      <td>91.034706</td>\n",
              "      <td>84.948990</td>\n",
              "      <td>16.694683</td>\n",
              "      <td>171.603165</td>\n",
              "      <td>99.870148</td>\n",
              "      <td>71.733025</td>\n",
              "    </tr>\n",
              "    <tr>\n",
              "      <th>1</th>\n",
              "      <td>2</td>\n",
              "      <td>900112515</td>\n",
              "      <td>REFINERIA DE CARTAGENA S.A.S</td>\n",
              "      <td>SUPERSOCIEDADES</td>\n",
              "      <td>Costa Atlántica</td>\n",
              "      <td>BOLIVAR</td>\n",
              "      <td>CARTAGENA-BOLIVAR</td>\n",
              "      <td>1921</td>\n",
              "      <td>MANUFACTURA</td>\n",
              "      <td>27.856976</td>\n",
              "      <td>2.188259</td>\n",
              "      <td>42.844952</td>\n",
              "      <td>16.480904</td>\n",
              "      <td>26.364046</td>\n",
              "      <td>15.503226</td>\n",
              "      <td>-0.371780</td>\n",
              "      <td>35.440788</td>\n",
              "      <td>15.008915</td>\n",
              "      <td>20.431871</td>\n",
              "    </tr>\n",
              "    <tr>\n",
              "      <th>2</th>\n",
              "      <td>3</td>\n",
              "      <td>830095213</td>\n",
              "      <td>ORGANIZACIÓN TERPEL S.A.</td>\n",
              "      <td>SUPERFINANCIERA</td>\n",
              "      <td>Bogotá - Cundinamarca</td>\n",
              "      <td>BOGOTA D.C.</td>\n",
              "      <td>BOGOTA D.C.-BOGOTA D.C.</td>\n",
              "      <td>4661</td>\n",
              "      <td>COMERCIO</td>\n",
              "      <td>23.603193</td>\n",
              "      <td>0.333412</td>\n",
              "      <td>7.481575</td>\n",
              "      <td>4.473300</td>\n",
              "      <td>3.008276</td>\n",
              "      <td>17.012411</td>\n",
              "      <td>0.375722</td>\n",
              "      <td>6.336788</td>\n",
              "      <td>3.761811</td>\n",
              "      <td>2.574978</td>\n",
              "    </tr>\n",
              "  </tbody>\n",
              "</table>\n",
              "</div>\n",
              "    <div class=\"colab-df-buttons\">\n",
              "\n",
              "  <div class=\"colab-df-container\">\n",
              "    <button class=\"colab-df-convert\" onclick=\"convertToInteractive('df-f86ef9d1-78f4-45a8-bfcf-e7e5d1ad4b47')\"\n",
              "            title=\"Convert this dataframe to an interactive table.\"\n",
              "            style=\"display:none;\">\n",
              "\n",
              "  <svg xmlns=\"http://www.w3.org/2000/svg\" height=\"24px\" viewBox=\"0 -960 960 960\">\n",
              "    <path d=\"M120-120v-720h720v720H120Zm60-500h600v-160H180v160Zm220 220h160v-160H400v160Zm0 220h160v-160H400v160ZM180-400h160v-160H180v160Zm440 0h160v-160H620v160ZM180-180h160v-160H180v160Zm440 0h160v-160H620v160Z\"/>\n",
              "  </svg>\n",
              "    </button>\n",
              "\n",
              "  <style>\n",
              "    .colab-df-container {\n",
              "      display:flex;\n",
              "      gap: 12px;\n",
              "    }\n",
              "\n",
              "    .colab-df-convert {\n",
              "      background-color: #E8F0FE;\n",
              "      border: none;\n",
              "      border-radius: 50%;\n",
              "      cursor: pointer;\n",
              "      display: none;\n",
              "      fill: #1967D2;\n",
              "      height: 32px;\n",
              "      padding: 0 0 0 0;\n",
              "      width: 32px;\n",
              "    }\n",
              "\n",
              "    .colab-df-convert:hover {\n",
              "      background-color: #E2EBFA;\n",
              "      box-shadow: 0px 1px 2px rgba(60, 64, 67, 0.3), 0px 1px 3px 1px rgba(60, 64, 67, 0.15);\n",
              "      fill: #174EA6;\n",
              "    }\n",
              "\n",
              "    .colab-df-buttons div {\n",
              "      margin-bottom: 4px;\n",
              "    }\n",
              "\n",
              "    [theme=dark] .colab-df-convert {\n",
              "      background-color: #3B4455;\n",
              "      fill: #D2E3FC;\n",
              "    }\n",
              "\n",
              "    [theme=dark] .colab-df-convert:hover {\n",
              "      background-color: #434B5C;\n",
              "      box-shadow: 0px 1px 3px 1px rgba(0, 0, 0, 0.15);\n",
              "      filter: drop-shadow(0px 1px 2px rgba(0, 0, 0, 0.3));\n",
              "      fill: #FFFFFF;\n",
              "    }\n",
              "  </style>\n",
              "\n",
              "    <script>\n",
              "      const buttonEl =\n",
              "        document.querySelector('#df-f86ef9d1-78f4-45a8-bfcf-e7e5d1ad4b47 button.colab-df-convert');\n",
              "      buttonEl.style.display =\n",
              "        google.colab.kernel.accessAllowed ? 'block' : 'none';\n",
              "\n",
              "      async function convertToInteractive(key) {\n",
              "        const element = document.querySelector('#df-f86ef9d1-78f4-45a8-bfcf-e7e5d1ad4b47');\n",
              "        const dataTable =\n",
              "          await google.colab.kernel.invokeFunction('convertToInteractive',\n",
              "                                                    [key], {});\n",
              "        if (!dataTable) return;\n",
              "\n",
              "        const docLinkHtml = 'Like what you see? Visit the ' +\n",
              "          '<a target=\"_blank\" href=https://colab.research.google.com/notebooks/data_table.ipynb>data table notebook</a>'\n",
              "          + ' to learn more about interactive tables.';\n",
              "        element.innerHTML = '';\n",
              "        dataTable['output_type'] = 'display_data';\n",
              "        await google.colab.output.renderOutput(dataTable, element);\n",
              "        const docLink = document.createElement('div');\n",
              "        docLink.innerHTML = docLinkHtml;\n",
              "        element.appendChild(docLink);\n",
              "      }\n",
              "    </script>\n",
              "  </div>\n",
              "\n",
              "\n",
              "<div id=\"df-69504532-4544-4058-b1f7-46867a2d2b0f\">\n",
              "  <button class=\"colab-df-quickchart\" onclick=\"quickchart('df-69504532-4544-4058-b1f7-46867a2d2b0f')\"\n",
              "            title=\"Suggest charts\"\n",
              "            style=\"display:none;\">\n",
              "\n",
              "<svg xmlns=\"http://www.w3.org/2000/svg\" height=\"24px\"viewBox=\"0 0 24 24\"\n",
              "     width=\"24px\">\n",
              "    <g>\n",
              "        <path d=\"M19 3H5c-1.1 0-2 .9-2 2v14c0 1.1.9 2 2 2h14c1.1 0 2-.9 2-2V5c0-1.1-.9-2-2-2zM9 17H7v-7h2v7zm4 0h-2V7h2v10zm4 0h-2v-4h2v4z\"/>\n",
              "    </g>\n",
              "</svg>\n",
              "  </button>\n",
              "\n",
              "<style>\n",
              "  .colab-df-quickchart {\n",
              "      --bg-color: #E8F0FE;\n",
              "      --fill-color: #1967D2;\n",
              "      --hover-bg-color: #E2EBFA;\n",
              "      --hover-fill-color: #174EA6;\n",
              "      --disabled-fill-color: #AAA;\n",
              "      --disabled-bg-color: #DDD;\n",
              "  }\n",
              "\n",
              "  [theme=dark] .colab-df-quickchart {\n",
              "      --bg-color: #3B4455;\n",
              "      --fill-color: #D2E3FC;\n",
              "      --hover-bg-color: #434B5C;\n",
              "      --hover-fill-color: #FFFFFF;\n",
              "      --disabled-bg-color: #3B4455;\n",
              "      --disabled-fill-color: #666;\n",
              "  }\n",
              "\n",
              "  .colab-df-quickchart {\n",
              "    background-color: var(--bg-color);\n",
              "    border: none;\n",
              "    border-radius: 50%;\n",
              "    cursor: pointer;\n",
              "    display: none;\n",
              "    fill: var(--fill-color);\n",
              "    height: 32px;\n",
              "    padding: 0;\n",
              "    width: 32px;\n",
              "  }\n",
              "\n",
              "  .colab-df-quickchart:hover {\n",
              "    background-color: var(--hover-bg-color);\n",
              "    box-shadow: 0 1px 2px rgba(60, 64, 67, 0.3), 0 1px 3px 1px rgba(60, 64, 67, 0.15);\n",
              "    fill: var(--button-hover-fill-color);\n",
              "  }\n",
              "\n",
              "  .colab-df-quickchart-complete:disabled,\n",
              "  .colab-df-quickchart-complete:disabled:hover {\n",
              "    background-color: var(--disabled-bg-color);\n",
              "    fill: var(--disabled-fill-color);\n",
              "    box-shadow: none;\n",
              "  }\n",
              "\n",
              "  .colab-df-spinner {\n",
              "    border: 2px solid var(--fill-color);\n",
              "    border-color: transparent;\n",
              "    border-bottom-color: var(--fill-color);\n",
              "    animation:\n",
              "      spin 1s steps(1) infinite;\n",
              "  }\n",
              "\n",
              "  @keyframes spin {\n",
              "    0% {\n",
              "      border-color: transparent;\n",
              "      border-bottom-color: var(--fill-color);\n",
              "      border-left-color: var(--fill-color);\n",
              "    }\n",
              "    20% {\n",
              "      border-color: transparent;\n",
              "      border-left-color: var(--fill-color);\n",
              "      border-top-color: var(--fill-color);\n",
              "    }\n",
              "    30% {\n",
              "      border-color: transparent;\n",
              "      border-left-color: var(--fill-color);\n",
              "      border-top-color: var(--fill-color);\n",
              "      border-right-color: var(--fill-color);\n",
              "    }\n",
              "    40% {\n",
              "      border-color: transparent;\n",
              "      border-right-color: var(--fill-color);\n",
              "      border-top-color: var(--fill-color);\n",
              "    }\n",
              "    60% {\n",
              "      border-color: transparent;\n",
              "      border-right-color: var(--fill-color);\n",
              "    }\n",
              "    80% {\n",
              "      border-color: transparent;\n",
              "      border-right-color: var(--fill-color);\n",
              "      border-bottom-color: var(--fill-color);\n",
              "    }\n",
              "    90% {\n",
              "      border-color: transparent;\n",
              "      border-bottom-color: var(--fill-color);\n",
              "    }\n",
              "  }\n",
              "</style>\n",
              "\n",
              "  <script>\n",
              "    async function quickchart(key) {\n",
              "      const quickchartButtonEl =\n",
              "        document.querySelector('#' + key + ' button');\n",
              "      quickchartButtonEl.disabled = true;  // To prevent multiple clicks.\n",
              "      quickchartButtonEl.classList.add('colab-df-spinner');\n",
              "      try {\n",
              "        const charts = await google.colab.kernel.invokeFunction(\n",
              "            'suggestCharts', [key], {});\n",
              "      } catch (error) {\n",
              "        console.error('Error during call to suggestCharts:', error);\n",
              "      }\n",
              "      quickchartButtonEl.classList.remove('colab-df-spinner');\n",
              "      quickchartButtonEl.classList.add('colab-df-quickchart-complete');\n",
              "    }\n",
              "    (() => {\n",
              "      let quickchartButtonEl =\n",
              "        document.querySelector('#df-69504532-4544-4058-b1f7-46867a2d2b0f button');\n",
              "      quickchartButtonEl.style.display =\n",
              "        google.colab.kernel.accessAllowed ? 'block' : 'none';\n",
              "    })();\n",
              "  </script>\n",
              "</div>\n",
              "    </div>\n",
              "  </div>\n"
            ]
          },
          "metadata": {},
          "execution_count": 9
        }
      ]
    },
    {
      "cell_type": "markdown",
      "source": [
        "7. Elimino espacios de las columnas para evitar errores en las consultas"
      ],
      "metadata": {
        "id": "1KiwFNWcuN6K"
      }
    },
    {
      "cell_type": "code",
      "source": [
        "df.columns = df.columns.str.replace(\" \",\"_\")"
      ],
      "metadata": {
        "id": "0yOr9-3VuPKi"
      },
      "execution_count": 10,
      "outputs": []
    },
    {
      "cell_type": "markdown",
      "source": [
        "8. Realizo consultas"
      ],
      "metadata": {
        "id": "AEHy1SbCv9yS"
      }
    },
    {
      "cell_type": "code",
      "source": [
        "df.value_counts(\"SUPERVISOR\")"
      ],
      "metadata": {
        "colab": {
          "base_uri": "https://localhost:8080/"
        },
        "id": "1O9zZwfyzAdq",
        "outputId": "5e3d292c-8068-45a4-b60c-c2d5bfd0cd97"
      },
      "execution_count": 11,
      "outputs": [
        {
          "output_type": "execute_result",
          "data": {
            "text/plain": [
              "SUPERVISOR\n",
              "SUPERSOCIEDADES    7557\n",
              "SUPERSALUD          766\n",
              "SUPERVIGILANCIA     176\n",
              "SUPERFINANCIERA      56\n",
              "SUPERSERVICIOS        2\n",
              "SUPERTRANSPORTE       1\n",
              "dtype: int64"
            ]
          },
          "metadata": {},
          "execution_count": 11
        }
      ]
    },
    {
      "cell_type": "code",
      "source": [
        "df.value_counts(\"MACROSECTOR\")"
      ],
      "metadata": {
        "colab": {
          "base_uri": "https://localhost:8080/"
        },
        "id": "1jD4tk4z-Fw3",
        "outputId": "2f6b8acd-bbfe-421d-dadf-6f95ec89733a"
      },
      "execution_count": 12,
      "outputs": [
        {
          "output_type": "execute_result",
          "data": {
            "text/plain": [
              "MACROSECTOR\n",
              "COMERCIO        3013\n",
              "SERVICIOS       2513\n",
              "MANUFACTURA     1880\n",
              "CONSTRUCCIÓN     583\n",
              "AGROPECUARIO     402\n",
              "MINERO           167\n",
              "dtype: int64"
            ]
          },
          "metadata": {},
          "execution_count": 12
        }
      ]
    },
    {
      "cell_type": "code",
      "source": [
        "ciudad_interes = 'BOGOTA D.C.-BOGOTA D.C.'\n",
        "empresas_ciudad_interes = df[df['CIUDAD_DOMICILIO'] == ciudad_interes]\n",
        "macrosector_ciudad_interes = empresas_ciudad_interes['MACROSECTOR'].value_counts().reset_index(name='cantidad_empresas')\n",
        "print(f\"Cantidad de empresas por macrosector en la ciudad {ciudad_interes}:\")\n",
        "print(macrosector_ciudad_interes)"
      ],
      "metadata": {
        "colab": {
          "base_uri": "https://localhost:8080/"
        },
        "id": "5vilRgJGJyHz",
        "outputId": "63bdb25f-ee82-4ea5-ebd1-9148d0411f9b"
      },
      "execution_count": 13,
      "outputs": [
        {
          "output_type": "stream",
          "name": "stdout",
          "text": [
            "Cantidad de empresas por macrosector en la ciudad BOGOTA D.C.-BOGOTA D.C.:\n",
            "          index  cantidad_empresas\n",
            "0     SERVICIOS               1220\n",
            "1      COMERCIO               1144\n",
            "2   MANUFACTURA                526\n",
            "3  CONSTRUCCIÓN                224\n",
            "4  AGROPECUARIO                141\n",
            "5        MINERO                102\n"
          ]
        }
      ]
    },
    {
      "cell_type": "code",
      "source": [
        "macrosector_ciudad_interes.unstack(level=0)"
      ],
      "metadata": {
        "colab": {
          "base_uri": "https://localhost:8080/"
        },
        "id": "wICLu3aCPZ-P",
        "outputId": "7ca1be5d-dba0-4509-c80f-ed3b49dce44c"
      },
      "execution_count": 14,
      "outputs": [
        {
          "output_type": "execute_result",
          "data": {
            "text/plain": [
              "index              0       SERVICIOS\n",
              "                   1        COMERCIO\n",
              "                   2     MANUFACTURA\n",
              "                   3    CONSTRUCCIÓN\n",
              "                   4    AGROPECUARIO\n",
              "                   5          MINERO\n",
              "cantidad_empresas  0            1220\n",
              "                   1            1144\n",
              "                   2             526\n",
              "                   3             224\n",
              "                   4             141\n",
              "                   5             102\n",
              "dtype: object"
            ]
          },
          "metadata": {},
          "execution_count": 14
        }
      ]
    },
    {
      "cell_type": "code",
      "source": [
        "print(macrosector_ciudad_interes.unstack(level=0))\n",
        "macrosector_ciudad_interes.plot.bar()\n"
      ],
      "metadata": {
        "colab": {
          "base_uri": "https://localhost:8080/",
          "height": 668
        },
        "id": "g_T6jvsEPpzz",
        "outputId": "7d996fbe-a460-465c-9ea5-edde978c11da"
      },
      "execution_count": 15,
      "outputs": [
        {
          "output_type": "stream",
          "name": "stdout",
          "text": [
            "index              0       SERVICIOS\n",
            "                   1        COMERCIO\n",
            "                   2     MANUFACTURA\n",
            "                   3    CONSTRUCCIÓN\n",
            "                   4    AGROPECUARIO\n",
            "                   5          MINERO\n",
            "cantidad_empresas  0            1220\n",
            "                   1            1144\n",
            "                   2             526\n",
            "                   3             224\n",
            "                   4             141\n",
            "                   5             102\n",
            "dtype: object\n"
          ]
        },
        {
          "output_type": "execute_result",
          "data": {
            "text/plain": [
              "<Axes: >"
            ]
          },
          "metadata": {},
          "execution_count": 15
        },
        {
          "output_type": "display_data",
          "data": {
            "text/plain": [
              "<Figure size 640x480 with 1 Axes>"
            ],
            "image/png": "[encoded data removed]"
          },
          "metadata": {}
        }
      ]
    },
    {
      "cell_type": "code",
      "source": [
        "ciudad_interes = 'BOGOTA D.C.-BOGOTA D.C.'\n",
        "e_ciudad_interes = df[df['CIUDAD_DOMICILIO'] == ciudad_interes]\n",
        "# Ordeno el DataFrame por ingresos de manera descendente y obtener el top 5\n",
        "top5_patrimonio = e_ciudad_interes.sort_values(by='TOTAL_PATRIMONIO_2022', ascending=False).head(5)\n",
        "\n",
        "# Imprimir el resultado\n",
        "print(f\"Top 5 de empresas con mayor patrimonio en la ciudad {ciudad_interes}:\")\n",
        "print(top5_patrimonio[['RAZON_SOCIAL', 'TOTAL_PATRIMONIO_2022']])\n",
        "\n",
        "# Crear un gráfico de pastel\n",
        "plt.figure(figsize=(8, 8))\n",
        "plt.pie(top5_patrimonio['TOTAL_PATRIMONIO_2022'], labels=top5_patrimonio['RAZON_SOCIAL'], autopct='%1.1f%%', startangle=90)\n",
        "plt.title(f'Participación de Top 5 Empresas en el Patrimonio de {ciudad_interes} (2022)')\n",
        "plt.show()\n"
      ],
      "metadata": {
        "colab": {
          "base_uri": "https://localhost:8080/",
          "height": 797
        },
        "id": "Kl5oEJwfSjxw",
        "outputId": "a9e97e0d-b67e-41ee-afa1-501b0d690089"
      },
      "execution_count": 34,
      "outputs": [
        {
          "output_type": "stream",
          "name": "stdout",
          "text": [
            "Top 5 de empresas con mayor patrimonio en la ciudad BOGOTA D.C.-BOGOTA D.C.:\n",
            "                                         RAZON_SOCIAL  TOTAL_PATRIMONIO_2022\n",
            "0                                       ECOPETROL S.A              91.034706\n",
            "44                GRUPO ENERGÍA DE BOGOTÁ S.A. E.S.P.              20.502514\n",
            "17  CENIT TRANSPORTE Y LOGISTICA DE HIDROCARBUROS SAS              17.213150\n",
            "83                 GRUPO AVAL ACCIONES Y VALORES S A               16.962276\n",
            "12                                 EMGESA S.A. E.S.P.              15.171931\n"
          ]
        },
        {
          "output_type": "display_data",
          "data": {
            "text/plain": [
              "<Figure size 800x800 with 1 Axes>"
            ],
            "image/png": "[encoded data removed]"
          },
          "metadata": {}
        }
      ]
    },
    {
      "cell_type": "code",
      "source": [
        "prome_patrimonio_sector = top5_patrimonio.groupby('MACROSECTOR')['TOTAL_PATRIMONIO_2022'].mean()\n",
        "\n",
        "# Imprimir los resultados\n",
        "print(f\"El promedio del patrimonio del 2022 en el Top5 de empresas en Bogotá  por Macrosector es:\")\n",
        "print(prome_patrimonio_sector)"
      ],
      "metadata": {
        "colab": {
          "base_uri": "https://localhost:8080/"
        },
        "id": "RyqRfns9kQ9K",
        "outputId": "4cf0cb9d-c5bb-4302-9278-b79b0d10d1c5"
      },
      "execution_count": 30,
      "outputs": [
        {
          "output_type": "stream",
          "name": "stdout",
          "text": [
            "El promedio del patrimonio del 2022 en el Top5 de empresas en Bogotá  por Macrosector es:\n",
            "MACROSECTOR\n",
            "COMERCIO     16.962276\n",
            "MINERO       91.034706\n",
            "SERVICIOS    17.629198\n",
            "Name: TOTAL_PATRIMONIO_2022, dtype: float64\n"
          ]
        }
      ]
    },
    {
      "cell_type": "code",
      "source": [
        "import matplotlib.pyplot as plt\n",
        "\n",
        "\n",
        "# Crear un gráfico de media torta\n",
        "plt.figure(figsize=(8, 8))\n",
        "plt.pie(prome_patrimonio_sector, labels=prome_patrimonio_sector.index, autopct='%1.1f%%', startangle=90)\n",
        "plt.title('Participación por Macrosector (Top 5 Empresas en Bogotá, 2022)')\n",
        "plt.show()\n",
        "\n"
      ],
      "metadata": {
        "colab": {
          "base_uri": "https://localhost:8080/",
          "height": 675
        },
        "id": "vH1LPHnhmhjp",
        "outputId": "af82407b-338e-4db3-d925-f082f77ace2a"
      },
      "execution_count": 33,
      "outputs": [
        {
          "output_type": "display_data",
          "data": {
            "text/plain": [
              "<Figure size 800x800 with 1 Axes>"
            ],
            "image/png": "[encoded data removed]"
          },
          "metadata": {}
        }
      ]
    },
    {
      "cell_type": "code",
      "source": [
        "import pandas as pd\n",
        "import matplotlib.pyplot as plt\n",
        "\n",
        "\n",
        "# Agrupar por ciudad y calcular el patrimonio total\n",
        "patrimonio_por_ciudad = df.groupby('CIUDAD_DOMICILIO')[['TOTAL_PATRIMONIO_2022', 'TOTAL_PATRIMONIO_2021']].sum()\n",
        "\n",
        "# Calcular el patrimonio total sumando ambas columnas\n",
        "patrimonio_por_ciudad['PATRIMONIO_TOTAL'] = patrimonio_por_ciudad['TOTAL_PATRIMONIO_2022'] + patrimonio_por_ciudad['TOTAL_PATRIMONIO_2021']\n",
        "\n",
        "# Ordenar en orden descendente y seleccionar las cinco principales ciudades\n",
        "top5_ciudades = patrimonio_por_ciudad.sort_values(by='PATRIMONIO_TOTAL', ascending=False).head(5)\n",
        "\n",
        "# Visualizar o imprimir los resultados\n",
        "print(\"Top 5 Ciudades con Mayor Patrimonio Total:\")\n",
        "print(top5_ciudades)\n",
        "\n",
        "# Opcional: Crear un gráfico de barras\n",
        "plt.figure(figsize=(10, 6))\n",
        "plt.bar(top5_ciudades.index, top5_ciudades['PATRIMONIO_TOTAL'])\n",
        "plt.xlabel('Ciudades')\n",
        "plt.ylabel('Patrimonio Total')\n",
        "plt.title('Top 5 Ciudades con Mayor Patrimonio Total')\n",
        "plt.show()\n"
      ],
      "metadata": {
        "colab": {
          "base_uri": "https://localhost:8080/",
          "height": 842
        },
        "id": "a_SFqmVmoVWK",
        "outputId": "82371c25-8034-4917-ac35-19cdc8c5238a"
      },
      "execution_count": 38,
      "outputs": [
        {
          "output_type": "stream",
          "name": "stdout",
          "text": [
            "Top 5 Ciudades con Mayor Patrimonio Total:\n",
            "                         TOTAL_PATRIMONIO_2022  TOTAL_PATRIMONIO_2021  \\\n",
            "CIUDAD_DOMICILIO                                                        \n",
            "BOGOTA D.C.-BOGOTA D.C.             546.010633             501.090623   \n",
            "MEDELLIN-ANTIOQUIA                  195.567890             175.676213   \n",
            "CARTAGENA-BOLIVAR                    43.266933              35.477653   \n",
            "CALI-VALLE                           36.983395              34.601275   \n",
            "BARRANQUILLA-ATLANTICO               40.354624              28.641950   \n",
            "\n",
            "                         PATRIMONIO_TOTAL  \n",
            "CIUDAD_DOMICILIO                           \n",
            "BOGOTA D.C.-BOGOTA D.C.       1047.101256  \n",
            "MEDELLIN-ANTIOQUIA             371.244103  \n",
            "CARTAGENA-BOLIVAR               78.744587  \n",
            "CALI-VALLE                      71.584670  \n",
            "BARRANQUILLA-ATLANTICO          68.996573  \n"
          ]
        },
        {
          "output_type": "display_data",
          "data": {
            "text/plain": [
              "<Figure size 1000x600 with 1 Axes>"
            ],
            "image/png": "[encoded data removed]"
          },
          "metadata": {}
        }
      ]
    },
    {
      "cell_type": "code",
      "source": [
        "import pandas as pd\n",
        "import matplotlib.pyplot as plt\n",
        "\n",
        "\n",
        "# Ordenar en orden descendente según el patrimonio en 2022\n",
        "top5_empresas = df.sort_values(by='TOTAL_PATRIMONIO_2022', ascending=False).head(5)\n",
        "\n",
        "# Calcular la participación de las cinco empresas en el patrimonio total\n",
        "patrimonio_total_2022 = df['TOTAL_PATRIMONIO_2022'].sum()\n",
        "participacion_top5 = top5_empresas['TOTAL_PATRIMONIO_2022'].sum() / patrimonio_total_2022\n",
        "\n",
        "# Visualizar o imprimir los resultados\n",
        "print(\"Top 5 Empresas con Mayor Patrimonio en 2022:\")\n",
        "print(top5_empresas[['RAZON_SOCIAL', 'TOTAL_PATRIMONIO_2022']])\n",
        "\n",
        "print(\"\\nParticipación del Top 5 en el Patrimonio Total en 2022:\")\n",
        "print(f\"Participación: {participacion_top5:.2%}\")\n",
        "\n",
        "# Opcional: Crear un gráfico de barras\n",
        "plt.figure(figsize=(10, 6))\n",
        "plt.bar(top5_empresas['RAZON_SOCIAL'], top5_empresas['TOTAL_PATRIMONIO_2022'])\n",
        "plt.xlabel('Empresas')\n",
        "plt.ylabel('Patrimonio 2022')\n",
        "plt.title('Top 5 Empresas con Mayor Patrimonio en 2022')\n",
        "plt.show()\n"
      ],
      "metadata": {
        "colab": {
          "base_uri": "https://localhost:8080/",
          "height": 738
        },
        "id": "Hdu3vIYop46L",
        "outputId": "c476d5c1-f225-444b-d8cb-2e3253829c1a"
      },
      "execution_count": 41,
      "outputs": [
        {
          "output_type": "stream",
          "name": "stdout",
          "text": [
            "Top 5 Empresas con Mayor Patrimonio en 2022:\n",
            "                               RAZON_SOCIAL  TOTAL_PATRIMONIO_2022\n",
            "0                             ECOPETROL S.A              91.034706\n",
            "6     EMPRESAS PÚBLICAS DE MEDELLÍN E.S.P.               29.225855\n",
            "311  GRUPO DE INVERSIONES SURAMERICANA S.A.              27.702089\n",
            "1              REFINERIA DE CARTAGENA S.A.S              26.364046\n",
            "44      GRUPO ENERGÍA DE BOGOTÁ S.A. E.S.P.              20.502514\n",
            "\n",
            "Participación del Top 5 en el Patrimonio Total en 2022:\n",
            "Participación: 19.61%\n"
          ]
        },
        {
          "output_type": "display_data",
          "data": {
            "text/plain": [
              "<Figure size 1000x600 with 1 Axes>"
            ],
            "image/png": "[encoded data removed]"
          },
          "metadata": {}
        }
      ]
    },
    {
      "cell_type": "code",
      "source": [
        "import pandas as pd\n",
        "import matplotlib.pyplot as plt\n",
        "\n",
        "# Ordenar en orden descendente según el patrimonio en 2022\n",
        "top5_empresas = df.sort_values(by='TOTAL_PATRIMONIO_2022', ascending=False).head(5)\n",
        "\n",
        "# Calcular la participación de las cinco empresas en el patrimonio total\n",
        "patrimonio_total_2022 = df['TOTAL_PATRIMONIO_2022'].sum()\n",
        "participacion_top5 = top5_empresas['TOTAL_PATRIMONIO_2022'].sum() / patrimonio_total_2022\n",
        "\n",
        "# Crear un gráfico de pastel\n",
        "plt.figure(figsize=(8, 8))\n",
        "plt.pie([participacion_top5, 1 - participacion_top5], labels=['Top 5 Empresas', 'Resto'], autopct='%1.1f%%', startangle=90)\n",
        "plt.title('Participación del Top 5 Empresas en el Patrimonio Total en 2022')\n",
        "plt.show()"
      ],
      "metadata": {
        "colab": {
          "base_uri": "https://localhost:8080/",
          "height": 675
        },
        "id": "SNLc8LjIqaM6",
        "outputId": "16093304-af80-4410-f972-c04ca6b36603"
      },
      "execution_count": 42,
      "outputs": [
        {
          "output_type": "display_data",
          "data": {
            "text/plain": [
              "<Figure size 800x800 with 1 Axes>"
            ],
            "image/png": "[encoded data removed]"
          },
          "metadata": {}
        }
      ]
    }
  ]
}